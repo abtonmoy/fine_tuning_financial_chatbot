{
 "cells": [
  {
   "cell_type": "markdown",
   "id": "6ed49fd3",
   "metadata": {},
   "source": [
    "**Pre-Req:**\n",
    "\n",
    "pip install torch torchvision torchaudio --extra-index-url https://download.pytorch.org/whl/cu118 \n",
    "\n",
    "pip install transformers peft accelerate bitsandbytes datasets trl"
   ]
  },
  {
   "cell_type": "code",
   "execution_count": 8,
   "id": "26125c0f",
   "metadata": {},
   "outputs": [],
   "source": [
    "from transformers import AutoTokenizer, AutoModelForCausalLM, BitsAndBytesConfig\n",
    "import torch\n",
    "import transformers  \n",
    "import bitsandbytes as bnb  \n"
   ]
  },
  {
   "cell_type": "code",
   "execution_count": 9,
   "id": "9b0a797b",
   "metadata": {},
   "outputs": [
    {
     "name": "stderr",
     "output_type": "stream",
     "text": [
      "Loading checkpoint shards: 100%|██████████| 2/2 [00:08<00:00,  4.04s/it]\n"
     ]
    }
   ],
   "source": [
    "model_name = \"microsoft/Phi-3-mini-4k-instruct\"\n",
    "\n",
    "quant_config = BitsAndBytesConfig(\n",
    "    load_in_4bit=True,\n",
    "    bnb_4bit_use_double_quant=True,\n",
    "    bnb_4bit_quant_type=\"nf4\",\n",
    "    bnb_4bit_compute_dtype=torch.bfloat16\n",
    ")\n",
    "\n",
    "tokenizer = AutoTokenizer.from_pretrained(model_name, trust_remote_code=True)\n",
    "model = AutoModelForCausalLM.from_pretrained(\n",
    "    model_name,\n",
    "    device_map=\"auto\",\n",
    "    trust_remote_code=True,\n",
    "    quantization_config=quant_config\n",
    ")"
   ]
  },
  {
   "cell_type": "code",
   "execution_count": 10,
   "id": "9bece339",
   "metadata": {},
   "outputs": [],
   "source": [
    "from datasets import load_dataset\n",
    "dataset = load_dataset('json', data_files='financial_dataset.json', split='train')"
   ]
  },
  {
   "cell_type": "code",
   "execution_count": 11,
   "id": "9978ba0b",
   "metadata": {},
   "outputs": [],
   "source": [
    "from peft import LoraConfig, get_peft_model\n",
    "\n",
    "peft_config = LoraConfig(\n",
    "    r=64,\n",
    "    lora_alpha=16,\n",
    "    lora_dropout=0.1,\n",
    "    target_modules=[\"qkv_proj\", \"gate_up_proj\"],\n",
    "    bias='none',\n",
    "    task_type='CAUSAL_LM'\n",
    ")\n",
    "\n",
    "model = get_peft_model(model, peft_config)"
   ]
  },
  {
   "cell_type": "code",
   "execution_count": 12,
   "id": "786ded26",
   "metadata": {},
   "outputs": [],
   "source": [
    "from transformers import TrainingArguments\n",
    "\n",
    "training_args = TrainingArguments(\n",
    "    output_dir='./phi-finetuned-financial',\n",
    "    overwrite_output_dir=True,\n",
    "    num_train_epochs=3,\n",
    "    per_device_train_batch_size=1,\n",
    "    gradient_accumulation_steps=4,\n",
    "    learning_rate=2e-4,\n",
    "    logging_dir='./logs',\n",
    "    logging_steps=10,\n",
    "    save_strategy='epoch',\n",
    "    report_to='none',\n",
    "    fp16=False,\n",
    "    bf16=True,\n",
    "    push_to_hub=False\n",
    ")"
   ]
  },
  {
   "cell_type": "code",
   "execution_count": 13,
   "id": "3205293e",
   "metadata": {},
   "outputs": [],
   "source": [
    "def formatting_func(examples):\n",
    "    return examples['output']  # Directly return the text"
   ]
  },
  {
   "cell_type": "code",
   "execution_count": 14,
   "id": "54bea772",
   "metadata": {},
   "outputs": [
    {
     "name": "stdout",
     "output_type": "stream",
     "text": [
      "TRL version: 0.19.0\n",
      "SFTTrainer parameters: ('self', 'model', 'args', 'data_collator', 'train_dataset', 'eval_dataset', 'processing_class', 'compute_loss_func', 'compute_metrics', 'callbacks', 'optimizers', 'optimizer_cls_and_kwargs', 'preprocess_logits_for_metrics', 'peft_config', 'formatting_func', 'model_id', 'model_name', 'dict_args', 'eos_token', 'eos_token_id', 'chat_template_file', 'first_example', 'pad_token', 'pad_token_id', 'preprocess_dataset', 'packing', 'key', 'dataset')\n"
     ]
    }
   ],
   "source": [
    "import trl \n",
    "from trl import SFTTrainer\n",
    "print(f\"TRL version: {trl.__version__}\")\n",
    "print(f\"SFTTrainer parameters: {SFTTrainer.__init__.__code__.co_varnames}\")"
   ]
  },
  {
   "cell_type": "code",
   "execution_count": 16,
   "id": "f41a3fb0",
   "metadata": {},
   "outputs": [
    {
     "name": "stderr",
     "output_type": "stream",
     "text": [
      "Map: 100%|██████████| 10000/10000 [00:02<00:00, 4959.10 examples/s]\n",
      "Truncating train dataset: 100%|██████████| 10000/10000 [00:00<00:00, 147131.91 examples/s]\n",
      "No label_names provided for model class `PeftModelForCausalLM`. Since `PeftModel` hides base models input arguments, if label_names is not given, label_names can't be set automatically within `Trainer`. Note that empty label_names list will be used instead.\n"
     ]
    }
   ],
   "source": [
    "# First tokenize your dataset\n",
    "tokenized_dataset = dataset.map(\n",
    "    lambda x: tokenizer(\n",
    "        x['output'],\n",
    "        truncation=True,\n",
    "        max_length=512,\n",
    "        padding=\"max_length\"\n",
    "    ),\n",
    "    batched=True\n",
    ")\n",
    "\n",
    "# Then create trainer\n",
    "trainer = SFTTrainer(\n",
    "    model=model,\n",
    "    args=training_args,\n",
    "    train_dataset=tokenized_dataset,\n",
    ")"
   ]
  },
  {
   "cell_type": "code",
   "execution_count": 17,
   "id": "62bceebc",
   "metadata": {},
   "outputs": [
    {
     "name": "stdout",
     "output_type": "stream",
     "text": [
      "True\n",
      "cuda:0\n"
     ]
    }
   ],
   "source": [
    "# Check if model is ready for training\n",
    "print(model.training)  # Should be True\n",
    "print(model.device)    # Should show GPU if available"
   ]
  },
  {
   "cell_type": "code",
   "execution_count": null,
   "id": "a5c6163a",
   "metadata": {},
   "outputs": [],
   "source": [
    "trainer.train()"
   ]
  },
  {
   "cell_type": "code",
   "execution_count": null,
   "id": "5631a44c",
   "metadata": {},
   "outputs": [],
   "source": []
  }
 ],
 "metadata": {
  "kernelspec": {
   "display_name": "venv",
   "language": "python",
   "name": "python3"
  },
  "language_info": {
   "codemirror_mode": {
    "name": "ipython",
    "version": 3
   },
   "file_extension": ".py",
   "mimetype": "text/x-python",
   "name": "python",
   "nbconvert_exporter": "python",
   "pygments_lexer": "ipython3",
   "version": "3.13.5"
  }
 },
 "nbformat": 4,
 "nbformat_minor": 5
}
